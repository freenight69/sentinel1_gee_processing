{
 "cells": [
  {
   "cell_type": "code",
   "execution_count": 1,
   "metadata": {},
   "outputs": [
    {
     "name": "stdout",
     "output_type": "stream",
     "text": [
      "Number of images in collection:  1\n",
      "Additional border noise correction is completed\n",
      "Multi-temporal speckle filtering is completed\n",
      "Radiometric terrain normalization is completed\n",
      "Downloading Raw Image: S1A_IW_GRDH_1SDV_20210901T102038_20210901T102103_039487_04AA6D_E199 to F:/geoserver_data\\S1A_IW_GRDH_1SDV_20210901T102038_20210901T102103_039487_04AA6D_E199.tif\n"
     ]
    },
    {
     "data": {
      "application/vnd.jupyter.widget-view+json": {
       "model_id": "dd470ea2de604d74b6eec17d14823bd5",
       "version_major": 2,
       "version_minor": 0
      },
      "text/plain": [
       "...0901T102038_20210901T102103_039487_04AA6D_E199.tif: |          | 0.00/7.37M (raw) [  0.0%] in 00:00 (eta:  …"
      ]
     },
     "metadata": {},
     "output_type": "display_data"
    },
    {
     "name": "stderr",
     "output_type": "stream",
     "text": [
      "There is no STAC entry for: None\n"
     ]
    },
    {
     "name": "stdout",
     "output_type": "stream",
     "text": [
      "Downloading Visualization Image to F:/geoserver_data\\S1A_IW_GRDH_1SDV_20210901T102038_20210901T102103_039487_04AA6D_E199_VIS.tif\n"
     ]
    },
    {
     "data": {
      "application/vnd.jupyter.widget-view+json": {
       "model_id": "464f9951e05c48ea82c9e07425ce43bf",
       "version_major": 2,
       "version_minor": 0
      },
      "text/plain": [
       "...T102038_20210901T102103_039487_04AA6D_E199_VIS.tif: |          | 0.00/1.84M (raw) [  0.0%] in 00:00 (eta:  …"
      ]
     },
     "metadata": {},
     "output_type": "display_data"
    }
   ],
   "source": [
    "#!/usr/bin/env python3\n",
    "# -*- coding: utf-8 -*-\n",
    "\"\"\"\n",
    "File: s1_ard.py\n",
    "Version: v1.2\n",
    "Date: 2021-03-10\n",
    "Authors: Mullissa A., Vollrath A., Braun, C., Slagter B., Balling J., Gou Y., Gorelick N.,  Reiche J.\n",
    "Description: This script creates an analysis ready S1 image collection.\n",
    "License: This code is distributed under the MIT License.\n",
    "\n",
    "    Parameter:\n",
    "        START_DATE: The earliest date to include images for (inclusive).\n",
    "        END_DATE: The latest date to include images for (exclusive).\n",
    "        POLARIZATION: The Sentinel-1 image polarization to select for processing.\n",
    "            'VV' - selects the VV polarization.\n",
    "            'VH' - selects the VH polarization.\n",
    "            \"VVVH' - selects both the VV and VH polarization for processing.\n",
    "            'HH' - selects the HH polarization.\n",
    "            'HV' - selects the HV polarization.\n",
    "            \"HHHV' - selects both the HH and HV polarization for processing.\n",
    "        ORBIT:  The orbits to include. (string: BOTH, ASCENDING or DESCENDING)\n",
    "        GEOMETRY: The region to include imagery within.\n",
    "                  The user can interactively draw a bounding box within the map window or define the edge coordinates.\n",
    "        APPLY_BORDER_NOISE_CORRECTION: (Optional) true or false options to apply additional Border noise correction:\n",
    "        APPLY_SPECKLE_FILTERING: (Optional) true or false options to apply speckle filter\n",
    "        SPECKLE_FILTER: Type of speckle filtering to apply (String). If the APPLY_SPECKLE_FILTERING parameter is true then the selected speckle filter type will be used.\n",
    "            'BOXCAR' - Applies a boxcar filter on each individual image in the collection\n",
    "            'LEE' - Applies a Lee filter on each individual image in the collection based on [1]\n",
    "            'GAMMA MAP' - Applies a Gamma maximum a-posterior speckle filter on each individual image in the collection based on [2] & [3]\n",
    "            'REFINED LEE' - Applies the Refined Lee speckle filter on each individual image in the collection\n",
    "                                  based on [4]\n",
    "            'LEE SIGMA' - Applies the improved Lee sigma speckle filter on each individual image in the collection\n",
    "                                  based on [5]\n",
    "        SPECKLE_FILTER_FRAMEWORK: is the framework where filtering is applied (String). It can be 'MONO' or 'MULTI'. In the MONO case\n",
    "                                  the filtering is applied to each image in the collection individually. Whereas, in the MULTI case,\n",
    "                                  the Multitemporal Speckle filter is applied based on  [6] with any of the above mentioned speckle filters.\n",
    "        SPECKLE_FILTER_KERNEL_SIZE: is the size of the filter spatial window applied in speckle filtering. It must be a positive odd integer.\n",
    "        SPECKLE_FILTER_NR_OF_IMAGES: is the number of images to use in the multi-temporal speckle filter framework. All images are selected before the date of image to be filtered.\n",
    "                                    However, if there are not enough images before it then images after the date are selected.\n",
    "        TERRAIN_FLATTENING : (Optional) true or false option to apply Terrain correction based on [7] & [8]. \n",
    "        TERRAIN_FLATTENING_MODEL : model to use for radiometric terrain normalization (DIRECT, or VOLUME)\n",
    "        DEM : digital elevation model (DEM) to use (as EE asset)\n",
    "        TERRAIN_FLATTENING_ADDITIONAL_LAYOVER_SHADOW_BUFFER : additional buffer parameter for passive layover/shadow mask in meters\n",
    "        FORMAT : the output format for the processed collection. this can be 'LINEAR' or 'DB'.\n",
    "        CLIP_TO_ROI: (Optional) Clip the processed image to the region of interest.\n",
    "        SAVE_ASSETS : (Optional) Exports the processed collection to an asset.\n",
    "        ASSET_ID : (Optional) The user id path to save the assets\n",
    "        SAVE_LOCAL : (Optional) Download the processed collection to local.\n",
    "        VISUALIZATION : (Optional) Convert raw image to gray image and download the processed collection to local.\n",
    "        LOCAL_DIR : (Optional) Where to save downloaded images.\n",
    "        \n",
    "    Returns:\n",
    "        An ee.ImageCollection with an analysis ready Sentinel 1 imagery with the specified polarization images and angle band.\n",
    "        \n",
    "References\n",
    "  [1]  J. S. Lee, “Digital image enhancement and noise filtering by use of local statistics,” \n",
    "    IEEE Pattern Anal. Machine Intell., vol. PAMI-2, pp. 165–168, Mar. 1980. \n",
    "  [2]  A. Lopes, R. Touzi, and E. Nezry, “Adaptative speckle filters and scene heterogeneity,\n",
    "    IEEE Trans. Geosci. Remote Sensing, vol. 28, pp. 992–1000, Nov. 1990 \n",
    "  [3]  Lopes, A.; Nezry, E.; Touzi, R.; Laur, H.  Maximum a posteriori speckle filtering and first204order texture models in SAR images.  \n",
    "    10th annual international symposium on geoscience205and remote sensing. Ieee, 1990, pp. 2409–2412.\n",
    "  [4] J.-S. Lee, M.R. Grunes, G. De Grandi. Polarimetric SAR speckle filtering and its implication for classification\n",
    "    IEEE Trans. Geosci. Remote Sens., 37 (5) (1999), pp. 2363-2373.\n",
    "  [5] Lee, J.-S.; Wen, J.-H.; Ainsworth, T.L.; Chen, K.-S.; Chen, A.J. Improved sigma filter for speckle filtering of SAR imagery. \n",
    "    IEEE Trans. Geosci. Remote Sens. 2009, 47, 202–213.\n",
    "  [6] S. Quegan and J. J. Yu, “Filtering of multichannel SAR images, IEEE Trans Geosci. Remote Sensing, vol. 39, Nov. 2001.\n",
    "  [7] Vollrath, A., Mullissa, A., & Reiche, J. (2020). Angular-Based Radiometric Slope Correction for Sentinel-1 on Google Earth Engine. \n",
    "    Remote Sensing, 12(11), [1867]. https://doi.org/10.3390/rs12111867\n",
    "  [8] Hoekman, D.H.;  Reiche, J.   Multi-model radiometric slope correction of SAR images of221complex terrain using a two-stage semi-empirical approach.\n",
    "    Remote Sensing of Environment 2222015,156, 1–10.\n",
    "\n",
    "    \"\"\"\n",
    "\n",
    "import wrapper as wp\n",
    "import ee\n",
    "import os\n",
    "\n",
    "# 设置VPN代理服务器地址和端口\n",
    "os.environ['HTTP_PROXY'] = 'http://127.0.0.1:5188'\n",
    "os.environ['HTTPS_PROXY'] = 'http://127.0.0.1:5188'\n",
    "ee.Initialize()\n",
    "\n",
    "#/***************************/ \n",
    "#// MAIN\n",
    "#/***************************/ \n",
    "#Parameters\n",
    "roi = ee.Geometry.Polygon(\n",
    "        [\n",
    "            [\n",
    "                [115.15188913497626, 33.71237375360127],\n",
    "                [115.15188913497626, 33.664524503980076],\n",
    "                [115.22930841598212, 33.664524503980076],\n",
    "                [115.22930841598212, 33.71237375360127]\n",
    "            ]\n",
    "        ]\n",
    "    )\n",
    "parameter = {'START_DATE': '2021-09-01',\n",
    "            'STOP_DATE': '2021-09-02',        \n",
    "            'POLARIZATION': 'VV',\n",
    "            'PLATFORM_NUMBER': 'A',\n",
    "            'ORBIT': 'BOTH',\n",
    "            'ORBIT_NUM': None,\n",
    "            # 'ROI': ee.Geometry.Rectangle([-47.1634, -3.00071, -45.92746, -5.43836]),\n",
    "            'ROI': roi,\n",
    "            'APPLY_BORDER_NOISE_CORRECTION': True,\n",
    "            'APPLY_SPECKLE_FILTERING': True,\n",
    "            'SPECKLE_FILTER_FRAMEWORK':'MULTI',\n",
    "            'SPECKLE_FILTER': 'GAMMA MAP',\n",
    "            'SPECKLE_FILTER_KERNEL_SIZE': 9,\n",
    "            'SPECKLE_FILTER_NR_OF_IMAGES':10,\n",
    "            'APPLY_TERRAIN_FLATTENING': True,\n",
    "            'DEM': ee.Image('USGS/SRTMGL1_003'),\n",
    "            'TERRAIN_FLATTENING_MODEL': 'VOLUME',\n",
    "            'TERRAIN_FLATTENING_ADDITIONAL_LAYOVER_SHADOW_BUFFER':0,\n",
    "            'FORMAT': 'DB',\n",
    "            'CLIP_TO_ROI': False,\n",
    "            'SAVE_ASSET': False,\n",
    "            'ASSET_ID': \"users/gongchen9369\",\n",
    "            'SAVE_LOCAL': True,\n",
    "            'EXPORT_CRS': 'EPSG:4326',\n",
    "            'EXPORT_SCALE': 10,\n",
    "            'VISUALIZATION': True,\n",
    "            'RENDER_SCALE': 100,\n",
    "            'LOCAL_DIR': \"F:/geoserver_data\"\n",
    "            }\n",
    "#processed s1 collection\n",
    "s1_processed = wp.s1_preproc(parameter)"
   ]
  }
 ],
 "metadata": {
  "kernelspec": {
   "display_name": "Python 3.10.4 ('gee')",
   "language": "python",
   "name": "python3"
  },
  "language_info": {
   "codemirror_mode": {
    "name": "ipython",
    "version": 3
   },
   "file_extension": ".py",
   "mimetype": "text/x-python",
   "name": "python",
   "nbconvert_exporter": "python",
   "pygments_lexer": "ipython3",
   "version": "3.10.4 | packaged by conda-forge | (main, Mar 30 2022, 08:38:02) [MSC v.1916 64 bit (AMD64)]"
  },
  "orig_nbformat": 4,
  "vscode": {
   "interpreter": {
    "hash": "896a7d79eada75efa10dad6f0d96b47f777beb9d98c3280bc138867997bd1c02"
   }
  }
 },
 "nbformat": 4,
 "nbformat_minor": 2
}
